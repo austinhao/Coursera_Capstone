{
 "cells": [
  {
   "cell_type": "markdown",
   "metadata": {},
   "source": [
    "# <center>Café Shops in Hambrug</center>\n",
    "<center>Coursera Capstone Project<center>\n",
    "<hr />\n",
    "\n",
    "<div class = \"foto frame\" style=\"height:200px;width:800px;\"><center> \n",
    "    <div class = \"foto\" style=\"height:200px;width:201px;float:left;\"> \n",
    "        <img src=\"https://fastly.4sqi.net/img/general/200x200/2017380_NFmjEodRV1tO_vTALEzdIv5cbxSjoOUkC1EDBtJjJ68.jpg\" alt=\"description\" width=\"200\"/></div>\n",
    "    <div class = \"foto\" style=\"height:200px;width:201px;float:left;\"> \n",
    "        <img src=\"https://fastly.4sqi.net/img/general/200x200/18748704_964ZnSNHp6hDY85KKDKWtMtjjvYQgLCHpXEP420dwbc.jpg\" alt=\"description\" width=\"200\" /> </div> \n",
    "    <div class = \"x layout\"style=\"height:200px;width:391px;float:left;\"> \n",
    "        <img src=\"http://incentiveandmotivation.com/wp-content/uploads/2019/02/Hamburg.jpg\" alt=\"description\" width=\"389\" /> </div> \n",
    "<center></div>\n",
    "<hr />"
   ]
  },
  {
   "cell_type": "markdown",
   "metadata": {},
   "source": [
    "## Table of Contents\n",
    "\n",
    "<div class=\"alert alert-block alert-info\">\n",
    "\n",
    "<font size = 4>\n",
    "\n",
    "1. <a href=\"#item1\">Business Problem</a>\n",
    "\n",
    "2. <a href=\"#item2\">Data Aquirment & Objectives</a>\n",
    " \n",
    "</font>\n",
    "</div>"
   ]
  },
  {
   "cell_type": "markdown",
   "metadata": {},
   "source": [
    "---"
   ]
  },
  {
   "cell_type": "markdown",
   "metadata": {},
   "source": [
    "<a id='item1'></a>"
   ]
  },
  {
   "cell_type": "markdown",
   "metadata": {},
   "source": [
    "# 1. Business Problem"
   ]
  },
  {
   "cell_type": "markdown",
   "metadata": {},
   "source": [
    "#### Background: \n",
    "Coffee is one of the most important drinks and social lubricants across the world, According to Statista, the worldwide revenue of the coffee market in 2018 reached 404.2 billion US$, with 6% YOY growth. And 80% of spending in the coffee segment will be attributable to out of home consumption, like café shop. Café shop is a great social gathering place, where people could meet their friends or just have a break during shopping.<br> \n",
    "<br> \n",
    "The target audience is who interesst in selecting site for a new café shop. In this project, we will study the geographical ralationship of café shops and other venues in Hamburg, Germany. And try to answer the following questions.  <br> \n",
    "<br>\n",
    "#### Questions: \n",
    "- How is the café shop distributed in Hamburg?\n",
    "- Is there any pattern of café site selection that based on nearby venues?\n",
    "- Can we provide some insights into café site selection?"
   ]
  },
  {
   "cell_type": "markdown",
   "metadata": {},
   "source": [
    "---"
   ]
  },
  {
   "cell_type": "markdown",
   "metadata": {},
   "source": [
    "<a id='item2'></a>"
   ]
  },
  {
   "cell_type": "markdown",
   "metadata": {},
   "source": [
    "# 2. Data Aquirment & Objectives"
   ]
  },
  {
   "cell_type": "markdown",
   "metadata": {},
   "source": [
    "To answer those questions, we will use districts and localities data of Hamburg, and the venues data from Foursquare.\n",
    "\n",
    "#### Data source:\n",
    "- Districts and localities in Hamburg: <br> https://de.wikipedia.org/wiki/Liste_der_Bezirke_und_Stadtteile_Hamburgs \n",
    "<br>\n",
    "- Venue data from Foursquare: <br> \n",
    "https://foursquare.com/city-guide\n"
   ]
  },
  {
   "cell_type": "markdown",
   "metadata": {},
   "source": [
    "#### Objectives: \n",
    "- Process the collected data sets.\n",
    "- Explore the districts and localities in Hamburg.\n",
    "- Explore the geographical data of café shops and nearby venues from different localities in Hamburg.\n",
    "- Training approprite model to provide café site selection suggestions.\n",
    "- Evaluate the model."
   ]
  },
  {
   "cell_type": "markdown",
   "metadata": {},
   "source": [
    "#### Data collection:\n",
    "- scrape districts and localities data from wiki page, format dataframe table which consist of:\n",
    "    - Borough\n",
    "    - Locality\n",
    "    - Area\n",
    "    - Population\n",
    "    - Locality latitude\n",
    "    - Locality longitude\n",
    "- Search café shops in each locality using Foursquare API, format dataframe table which consist of:\n",
    "    - Locality\n",
    "    - Café shop name\n",
    "    - Latitude\n",
    "    - Longitude\n",
    "- Explore nearby venues for each café shop, format dataframe table which consist of:\n",
    "    - Café shop name\n",
    "    - Venue name\n",
    "    - Venue latitude\n",
    "    - Venue longitude\n",
    "    - Venue category\n",
    "    - Venue distance"
   ]
  },
  {
   "cell_type": "markdown",
   "metadata": {},
   "source": [
    "---"
   ]
  },
  {
   "cell_type": "markdown",
   "metadata": {},
   "source": [
    "<a id='item3'></a>"
   ]
  }
 ],
 "metadata": {
  "kernelspec": {
   "display_name": "Python 3",
   "language": "python",
   "name": "python3"
  },
  "language_info": {
   "codemirror_mode": {
    "name": "ipython",
    "version": 3
   },
   "file_extension": ".py",
   "mimetype": "text/x-python",
   "name": "python",
   "nbconvert_exporter": "python",
   "pygments_lexer": "ipython3",
   "version": "3.7.2"
  }
 },
 "nbformat": 4,
 "nbformat_minor": 2
}
